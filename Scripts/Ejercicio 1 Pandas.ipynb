{
 "cells": [
  {
   "cell_type": "code",
   "execution_count": 2,
   "metadata": {},
   "outputs": [],
   "source": [
    "import pandas as pd"
   ]
  },
  {
   "cell_type": "code",
   "execution_count": 3,
   "metadata": {},
   "outputs": [],
   "source": [
    "df = pd.read_csv(r'https://raw.githubusercontent.com/nacho1907/Bases/refs/heads/main/bzrp.csv')"
   ]
  },
  {
   "cell_type": "markdown",
   "metadata": {},
   "source": [
    "¿Cuántas instancias y cuántas variables tiene el dataset?\n",
    "¿De qué tipo es cada una de las variables?\n",
    "Imprimir los estadísticos descriptivos ¿Para qué variable(s) la lectura del mismo carece de sentido?\n",
    "¿Cuál es la canción más popular?\n",
    "¿Cuál es la canción con el tempo más lento?\n",
    "¿Cuál es el promedio de energía?\n",
    "¿Hay alguna instancia duplicada?\n",
    "Setear la variable \"id\" como índice del DataFrame\n",
    "Crear un nuevo dataset con solo las variables de tipo numérico\n",
    "¿Qué variable mejor explica la popularidad (correlación)?"
   ]
  }
 ],
 "metadata": {
  "colab": {
   "collapsed_sections": [],
   "name": "Clase 1.ipynb",
   "provenance": []
  },
  "kernelspec": {
   "display_name": ".venv",
   "language": "python",
   "name": "python3"
  },
  "language_info": {
   "codemirror_mode": {
    "name": "ipython",
    "version": 3
   },
   "file_extension": ".py",
   "mimetype": "text/x-python",
   "name": "python",
   "nbconvert_exporter": "python",
   "pygments_lexer": "ipython3",
   "version": "3.10.2"
  }
 },
 "nbformat": 4,
 "nbformat_minor": 0
}
